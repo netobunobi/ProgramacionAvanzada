{
 "cells": [
  {
   "cell_type": "code",
   "execution_count": 1,
   "metadata": {},
   "outputs": [],
   "source": [
    "class Persona:\n",
    "    def __init__(self, nombre):\n",
    "        self.nombre = nombre"
   ]
  },
  {
   "cell_type": "code",
   "execution_count": 2,
   "metadata": {},
   "outputs": [],
   "source": [
    "class Cliente(Persona):\n",
    "    def __init__(self, nombre):\n",
    "        super().__init__(nombre)\n",
    "        self.historial_pedidos = []\n",
    "\n",
    "    def realizar_pedido(self, pedido):\n",
    "        self.historial_pedidos.append(pedido)\n",
    "        return pedido\n"
   ]
  },
  {
   "cell_type": "code",
   "execution_count": 3,
   "metadata": {},
   "outputs": [],
   "source": [
    "class Empleado(Persona):\n",
    "    def __init__(self, nombre, rol):\n",
    "        super().__init__(nombre)\n",
    "        self.rol = rol"
   ]
  },
  {
   "cell_type": "code",
   "execution_count": 4,
   "metadata": {},
   "outputs": [],
   "source": [
    "class ProductoBase:\n",
    "    def __init__(self, nombre, precio):\n",
    "        self.nombre = nombre\n",
    "        self.precio = precio\n"
   ]
  },
  {
   "cell_type": "code",
   "execution_count": 5,
   "metadata": {},
   "outputs": [],
   "source": [
    "class Bebida(ProductoBase):\n",
    "    def __init__(self, nombre, precio, tamaño, tipo, personalizaciones=None):\n",
    "        super().__init__(nombre, precio)\n",
    "        self.tamaño = tamaño\n",
    "        self.tipo = tipo\n",
    "        self.personalizaciones = personalizaciones if personalizaciones else []\n"
   ]
  },
  {
   "cell_type": "code",
   "execution_count": 6,
   "metadata": {},
   "outputs": [],
   "source": [
    "class Postre(ProductoBase):\n",
    "    def __init__(self, nombre, precio, vegano=False, sin_gluten=False):\n",
    "        super().__init__(nombre, precio)\n",
    "        self.vegano = vegano\n",
    "        self.sin_gluten = sin_gluten\n"
   ]
  },
  {
   "cell_type": "code",
   "execution_count": 11,
   "metadata": {},
   "outputs": [],
   "source": [
    "class Inventario:\n",
    "    def __init__(self):\n",
    "        self.ingredientes = {}\n",
    "\n",
    "    def agregar_ingrediente(self, nombre, cantidad):\n",
    "        if nombre in self.ingredientes:\n",
    "            self.ingredientes[nombre] += cantidad\n",
    "        else:\n",
    "            self.ingredientes[nombre] = cantidad\n",
    "\n",
    "    def verificar_disponibilidad(self, pedido):\n",
    "        for producto in pedido.productos:\n",
    "            for ingrediente in producto.personalizaciones:\n",
    "                if self.ingredientes.get(ingrediente, 0) <= 0:\n",
    "                    return False\n",
    "        return True\n",
    "\n",
    "    def usar_ingredientes(self, pedido):\n",
    "        if self.verificar_disponibilidad(pedido):\n",
    "            for producto in pedido.productos:\n",
    "                for ingrediente in producto.personalizaciones:\n",
    "                    self.ingredientes[ingrediente] -= 1\n",
    "            return True\n",
    "        return False\n"
   ]
  },
  {
   "cell_type": "code",
   "execution_count": 8,
   "metadata": {},
   "outputs": [],
   "source": [
    "class Pedido:\n",
    "    def __init__(self, cliente):\n",
    "        self.cliente = cliente\n",
    "        self.productos = []\n",
    "        self.estado = \"pendiente\"\n",
    "\n",
    "    def agregar_producto(self, producto):\n",
    "        self.productos.append(producto)\n",
    "\n",
    "    def calcular_total(self):\n",
    "        return sum(producto.precio for producto in self.productos)\n",
    "\n",
    "    def actualizar_estado(self, estado):\n",
    "        self.estado = estado\n",
    "\n",
    "\n"
   ]
  },
  {
   "cell_type": "code",
   "execution_count": 9,
   "metadata": {},
   "outputs": [],
   "source": [
    "class Promocion:\n",
    "    def __init__(self, descuento):\n",
    "        self.descuento = descuento\n",
    "\n",
    "    def aplicar_descuento(self, pedido):\n",
    "        total = pedido.calcular_total()\n",
    "        return total - (total * self.descuento / 100)"
   ]
  },
  {
   "cell_type": "code",
   "execution_count": 12,
   "metadata": {},
   "outputs": [
    {
     "name": "stdout",
     "output_type": "stream",
     "text": [
      "No hay suficientes ingredientes para este pedido.\n"
     ]
    }
   ],
   "source": [
    "# Ejemplo de uso\n",
    "inventario = Inventario()\n",
    "inventario.agregar_ingrediente(\"leche de almendra\", 5)\n",
    "inventario.agregar_ingrediente(\"azúcar\", 5)\n",
    "\n",
    "cliente = Cliente(\"Juan\")\n",
    "pedido = Pedido(cliente)\n",
    "bebida = Bebida(\"Café\", 2.5, \"Grande\", \"Caliente\", [\"leche de almendra\", \"sin azúcar\"])\n",
    "\n",
    "pedido.agregar_producto(bebida)\n",
    "\n",
    "if inventario.usar_ingredientes(pedido):\n",
    "    cliente.realizar_pedido(pedido)\n",
    "    print(f\"Pedido realizado. Total: ${pedido.calcular_total()}\")\n",
    "else:\n",
    "    print(\"No hay suficientes ingredientes para este pedido.\")\n"
   ]
  }
 ],
 "metadata": {
  "kernelspec": {
   "display_name": "Python 3",
   "language": "python",
   "name": "python3"
  },
  "language_info": {
   "codemirror_mode": {
    "name": "ipython",
    "version": 3
   },
   "file_extension": ".py",
   "mimetype": "text/x-python",
   "name": "python",
   "nbconvert_exporter": "python",
   "pygments_lexer": "ipython3",
   "version": "3.13.1"
  }
 },
 "nbformat": 4,
 "nbformat_minor": 2
}
