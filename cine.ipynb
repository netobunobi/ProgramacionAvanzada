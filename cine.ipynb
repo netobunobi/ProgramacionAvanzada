{
 "cells": [
  {
   "cell_type": "code",
   "execution_count": 1,
   "metadata": {},
   "outputs": [],
   "source": [
    "class Persona:\n",
    "    listaPersonas = []\n",
    "\n",
    "    def __init__(self, nombre, correo):\n",
    "        self.nombre = nombre\n",
    "        self.correo = correo\n",
    "        self.rol = \"cliente\"\n",
    "\n",
    "    def registrarse(self):\n",
    "        Persona.listaPersonas.append(self)\n",
    "        print(\"Usuario registrado correctamente\")\n",
    "    \n",
    "    def info(self):\n",
    "        print(f\"{self.rol}: {self.nombre}, Correo: {self.correo}\")\n"
   ]
  },
  {
   "cell_type": "code",
   "execution_count": 10,
   "metadata": {},
   "outputs": [],
   "source": [
    "class Empleado(Persona):\n",
    "    def __init__(self, nombre, correo, rol):\n",
    "        super().__init__(nombre, correo)\n",
    "        self.rol = rol\n",
    "\n",
    "    def mostrar_lista_personas(self):\n",
    "        for persona in Persona.listaPersonas:\n",
    "            print(f\"{persona.rol}: {persona.nombre}, {persona.correo}\")\n",
    "\n",
    "    def agregar_funcion(self, pelicula, hora, sala):\n",
    "        if self.rol in [\"taquillero\", \"gerente\"]:\n",
    "            nueva_funcion = Funciones(pelicula, hora, sala)\n",
    "            Funciones.carteleraFunciones.append(nueva_funcion)\n",
    "        else:\n",
    "            print(\"No tienes autorización para hacer esto\")\n",
    "\n",
    "    def agregar_promo(self,identificador, desc):\n",
    "        nueva_promo= Promo(identificador,desc)\n",
    "        Promo.Promociones.append(nueva_promo)\n",
    "\n"
   ]
  },
  {
   "cell_type": "code",
   "execution_count": 4,
   "metadata": {},
   "outputs": [],
   "source": [
    "class Usuario(Persona):\n",
    "    reservas_realizadas = []\n",
    "\n",
    "    def __init__(self, nombre, correo):\n",
    "        super().__init__(nombre, correo)\n",
    "\n",
    "    def ver_cartelera(self):\n",
    "        i=1\n",
    "        for movie in (Funciones.carteleraFunciones):\n",
    "            print(f\"{i}.- {movie}\")\n",
    "            i+=1\n",
    "\n",
    "    def reservar(self, funcion, promo, asientos):\n",
    "        if asientos>0:\n",
    "            asientos_disponibles = funcion.sala.capacidad - funcion.sala.asientosReservados\n",
    "            if asientos_disponibles >= asientos:\n",
    "                nueva_reserva = Reservas(self.nombre, funcion, promo, asientos)\n",
    "                Usuario.reservas_realizadas.append(nueva_reserva)\n",
    "                print(f\"\\nReserva realizada para la película {funcion.pelicula.titulo} a las {funcion.hora} en la sala {funcion.sala.numerosala} con {asientos} asientos\")\n",
    "                funcion.sala.asientosReservados += asientos\n",
    "            else:\n",
    "                print(f\"No hay suficientes asientos disponibles, asietos disponibles: {asientos_disponibles}\")\n",
    "        else:\n",
    "            print(\"no puedes reservar menos de 1 asiento\")\n",
    "\n",
    "    def ver_reservas(self):\n",
    "        print(f\"RESERVAS DE: {self.nombre}\")\n",
    "        for reserva in Usuario.reservas_realizadas:\n",
    "            print(reserva)\n",
    "\n",
    "    def ver_promos(self):\n",
    "        for promocion in Promo.Promociones:\n",
    "            print(promocion)\n",
    "\n"
   ]
  },
  {
   "cell_type": "code",
   "execution_count": 5,
   "metadata": {},
   "outputs": [],
   "source": [
    "class Espacio:\n",
    "    def __init__(self, capacidad):\n",
    "        self.capacidad = capacidad\n"
   ]
  },
  {
   "cell_type": "code",
   "execution_count": 6,
   "metadata": {},
   "outputs": [],
   "source": [
    "class Sala(Espacio):\n",
    "    def __init__(self, numerosala, capacidad, tipo):\n",
    "        super().__init__(capacidad)\n",
    "        self.numerosala = numerosala\n",
    "        self.tipo = tipo\n",
    "        self.asientosReservados = 0\n",
    "\n",
    "    def __str__(self):\n",
    "        return f\"Sala {self.numerosala}\"\n",
    "\n",
    "    def asientos_disponibles(self):\n",
    "        asientos_disp = self.capacidad - self.asientosReservados\n",
    "        print(f\"Aún hay {asientos_disp} asientos disponibles\" if asientos_disp > 0 else \"No hay asientos disponibles\")\n"
   ]
  },
  {
   "cell_type": "code",
   "execution_count": 7,
   "metadata": {},
   "outputs": [],
   "source": [
    "class ZonaComida(Espacio):\n",
    "    def __init__(self, capacidad,id_Zona):\n",
    "        super().__init__(capacidad)\n",
    "        self.id_zona = id_Zona\n",
    "\n"
   ]
  },
  {
   "cell_type": "code",
   "execution_count": 8,
   "metadata": {},
   "outputs": [],
   "source": [
    "\n",
    "class Pelicula:\n",
    "    def __init__(self, titulo, genero, duracion, director):\n",
    "        self.titulo = titulo\n",
    "        self.genero = genero   \n",
    "        self.duracion = duracion\n",
    "        self.director = director\n",
    "\n",
    "    def __str__(self):\n",
    "        return self.titulo\n",
    "\n",
    "    def descripcion_pelicula(self):\n",
    "        print(f\"pelicula: {self.titulo}, genero: {self.genero}, director: {self.director}, duracion: {self.duracion}\")"
   ]
  },
  {
   "cell_type": "code",
   "execution_count": 9,
   "metadata": {},
   "outputs": [],
   "source": [
    "class Promo:\n",
    "\n",
    "    Promociones = []\n",
    "\n",
    "    def __init__(self, idProm, descuento):\n",
    "        self.idProm = idProm\n",
    "        self.descuento = descuento\n",
    "\n",
    "    def __str__(self):\n",
    "        return f\"Promoción: {self.idProm}, Descuento: {self.descuento}\"\n"
   ]
  },
  {
   "cell_type": "code",
   "execution_count": 11,
   "metadata": {},
   "outputs": [],
   "source": [
    "class Reservas:\n",
    "    def __init__(self, usuario, funcion, promo, asientos):\n",
    "        self.usuario = usuario\n",
    "        self.funcion = funcion\n",
    "        self.promo = promo\n",
    "        self.asientos = asientos\n",
    "    \n",
    "    def __str__(self):\n",
    "        return f\"Función: {self.funcion.pelicula}, Hora: {self.funcion.hora}, Asientos: {self.asientos}\"\n"
   ]
  },
  {
   "cell_type": "code",
   "execution_count": 12,
   "metadata": {},
   "outputs": [],
   "source": [
    "class Funciones:\n",
    "    carteleraFunciones = []\n",
    "    \n",
    "    def __init__(self, pelicula, hora, sala):\n",
    "        self.pelicula = pelicula\n",
    "        self.hora = hora\n",
    "        self.sala = sala\n",
    "    \n",
    "    def __str__(self):\n",
    "        return f\"Película: {self.pelicula}, Hora: {self.hora}, Sala: {self.sala} ({self.sala.tipo})\"\n",
    "    "
   ]
  },
  {
   "cell_type": "code",
   "execution_count": 13,
   "metadata": {},
   "outputs": [
    {
     "name": "stdout",
     "output_type": "stream",
     "text": [
      "Usuario registrado correctamente\n",
      "cliente: Ernesto Velez Ortega, Correo: netovelesz2019@gmail.com\n",
      "Usuario registrado correctamente\n",
      "taquillero: santiago lopez carreon, Correo: pepitoloqendo123@gmail.com\n",
      "\n",
      "\n",
      "\n",
      "Usuario registrado correctamente\n",
      "\n",
      "\n",
      "\n",
      "cliente: Ernesto Velez Ortega, netovelesz2019@gmail.com\n",
      "taquillero: santiago lopez carreon, pepitoloqendo123@gmail.com\n",
      "limpieza: juan de dios pantogito cacas, Pantojitomepelalaverga\n"
     ]
    }
   ],
   "source": [
    "Ernesto = Usuario(\"Ernesto Velez Ortega\", \"netovelesz2019@gmail.com\")\n",
    "Ernesto.registrarse()\n",
    "Ernesto.info()\n",
    "santiago = Empleado(\"santiago lopez carreon\", \"pepitoloqendo123@gmail.com\", \"taquillero\")\n",
    "santiago.registrarse()\n",
    "santiago.info()\n",
    "print(\"\\n\\n\")\n",
    "juan = Empleado(\"juan de dios pantogito cacas\", \"Pantojitomepelalaverga\",\"limpieza\")\n",
    "juan.registrarse()\n",
    "print(\"\\n\\n\")\n",
    "santiago.mostrar_lista_personas()"
   ]
  },
  {
   "cell_type": "code",
   "execution_count": 14,
   "metadata": {},
   "outputs": [],
   "source": [
    "#peliculas\n",
    "elresplandor=Pelicula(\"el resplandor\", \"terror psicologico\", 150, \"setefin quing\")\n",
    "monsterinc=Pelicula(\"mosterinc\", \"horror cosmico\", 200, \"el mike wasaosqui\")\n",
    "masalladelaluna=Pelicula(\"mas alla de la luna\", \"infantil\", 90, \"el diego luna\")\n",
    "lamegde=Pelicula(\"emilia perez\", \"cagada\", 200, \"el mike wasaosqui\")\n",
    "\n"
   ]
  },
  {
   "cell_type": "code",
   "execution_count": 15,
   "metadata": {},
   "outputs": [],
   "source": [
    "#salas\n",
    "salaIMAX1 = Sala(\"A150\",150, \"IMAX\")\n",
    "sala3d = Sala(\"B150\",90, \"3D\")\n",
    "salaIMAX2 = Sala(\"A200\",50, \"IMAX\")\n",
    "\n",
    "santiago.agregar_funcion(elresplandor, \"15:30\", salaIMAX2)\n",
    "santiago.agregar_funcion(monsterinc, \"10:15\", salaIMAX2)\n",
    "santiago.agregar_funcion(masalladelaluna, \"12:40\", salaIMAX2)\n",
    "santiago.agregar_funcion(lamegde, \"nunca alv\", salaIMAX2)\n",
    "\n"
   ]
  },
  {
   "cell_type": "code",
   "execution_count": 16,
   "metadata": {},
   "outputs": [
    {
     "name": "stdout",
     "output_type": "stream",
     "text": [
      "\n",
      "\n",
      "\n",
      "1.- Película: el resplandor, Hora: 15:30, Sala: Sala A200 (IMAX)\n",
      "2.- Película: mosterinc, Hora: 10:15, Sala: Sala A200 (IMAX)\n",
      "3.- Película: mas alla de la luna, Hora: 12:40, Sala: Sala A200 (IMAX)\n",
      "4.- Película: emilia perez, Hora: nunca alv, Sala: Sala A200 (IMAX)\n",
      "No tienes autorización para hacer esto\n",
      "\n",
      "\n",
      "\n"
     ]
    }
   ],
   "source": [
    "\n",
    "print(\"\\n\\n\")\n",
    "Ernesto.ver_cartelera()\n",
    "\n",
    "juan.agregar_funcion(elresplandor, \"15:30\", salaIMAX1)\n",
    "print(\"\\n\\n\")\n"
   ]
  },
  {
   "cell_type": "code",
   "execution_count": 17,
   "metadata": {},
   "outputs": [
    {
     "name": "stdout",
     "output_type": "stream",
     "text": [
      "\n",
      "Reserva realizada para la película el resplandor a las 15:30 en la sala A200 con 50 asientos\n"
     ]
    }
   ],
   "source": [
    "pelicula_a_reservar = Funciones.carteleraFunciones[0] \n",
    "pelicula_a_reservar1 = Funciones.carteleraFunciones[3] \n",
    "pelicula_a_reservar2 = Funciones.carteleraFunciones[2] \n",
    "Ernesto.reservar(pelicula_a_reservar, \"A150\",50)\n",
    "\n"
   ]
  },
  {
   "cell_type": "code",
   "execution_count": 18,
   "metadata": {},
   "outputs": [
    {
     "name": "stdout",
     "output_type": "stream",
     "text": [
      "RESERVAS DE: Ernesto Velez Ortega\n",
      "Función: el resplandor, Hora: 15:30, Asientos: 50\n",
      "No hay asientos disponibles\n",
      "No hay suficientes asientos disponibles, asietos disponibles: 0\n",
      "No hay suficientes asientos disponibles, asietos disponibles: 0\n",
      "No hay suficientes asientos disponibles, asietos disponibles: 0\n",
      "No hay suficientes asientos disponibles, asietos disponibles: 0\n",
      "Promoción: A150, Descuento: -150\n",
      "Promoción: A160, Descuento: -50\n",
      "Promoción: A190, Descuento: -550\n"
     ]
    }
   ],
   "source": [
    "\n",
    "Ernesto.ver_reservas()\n",
    "\n",
    "salaIMAX2.asientos_disponibles()\n",
    "\n",
    "Ernesto.reservar(pelicula_a_reservar, \"A150\", 1)\n",
    "Ernesto.reservar(pelicula_a_reservar, \"A150\", 1)\n",
    "Ernesto.reservar(pelicula_a_reservar, \"A150\", 1)\n",
    "Ernesto.reservar(pelicula_a_reservar, \"A150\", 1)\n",
    "\n",
    "\n",
    "\n",
    "santiago.agregar_promo(\"A150\", -150)\n",
    "santiago.agregar_promo(\"A160\", -50)\n",
    "santiago.agregar_promo(\"A190\", -550)\n",
    "\n",
    "Ernesto.ver_promos()"
   ]
  }
 ],
 "metadata": {
  "kernelspec": {
   "display_name": "Python 3",
   "language": "python",
   "name": "python3"
  },
  "language_info": {
   "codemirror_mode": {
    "name": "ipython",
    "version": 3
   },
   "file_extension": ".py",
   "mimetype": "text/x-python",
   "name": "python",
   "nbconvert_exporter": "python",
   "pygments_lexer": "ipython3",
   "version": "3.13.1"
  }
 },
 "nbformat": 4,
 "nbformat_minor": 2
}
