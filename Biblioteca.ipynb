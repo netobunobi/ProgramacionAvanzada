{
 "cells": [
  {
   "cell_type": "code",
   "execution_count": 1,
   "metadata": {},
   "outputs": [],
   "source": [
    "class Material:\n",
    "    def __init__(self, titulo, estado=\"disponible\"):\n",
    "        self.titulo = titulo\n",
    "        self.estado = estado"
   ]
  },
  {
   "cell_type": "code",
   "execution_count": 2,
   "metadata": {},
   "outputs": [],
   "source": [
    "class Libro(Material):\n",
    "    def __init__(self, titulo, autor, genero, estado=\"disponible\"):\n",
    "        super().__init__(titulo, estado)\n",
    "        self.autor = autor\n",
    "        self.genero = genero"
   ]
  },
  {
   "cell_type": "code",
   "execution_count": 4,
   "metadata": {},
   "outputs": [],
   "source": [
    "class Revista(Material):\n",
    "    def __init__(self, titulo, edicion, periodicidad, estado=\"disponible\"):\n",
    "        super().__init__(titulo, estado)\n",
    "        self.edicion = edicion\n",
    "        self.periodicidad = periodicidad\n"
   ]
  },
  {
   "cell_type": "code",
   "execution_count": 5,
   "metadata": {},
   "outputs": [],
   "source": [
    "class MaterialDigital(Material):\n",
    "    def __init__(self, titulo, tipo_archivo, enlace):\n",
    "        super().__init__(titulo, \"disponible\")\n",
    "        self.tipo_archivo = tipo_archivo\n",
    "        self.enlace = enlace"
   ]
  },
  {
   "cell_type": "code",
   "execution_count": 6,
   "metadata": {},
   "outputs": [],
   "source": [
    "class Persona:\n",
    "    def __init__(self, nombre):\n",
    "        self.nombre = nombre\n"
   ]
  },
  {
   "cell_type": "code",
   "execution_count": 7,
   "metadata": {},
   "outputs": [],
   "source": [
    "class Usuario(Persona):\n",
    "    def __init__(self, nombre):\n",
    "        super().__init__(nombre)\n",
    "        self.prestamos = []\n",
    "        self.penalizaciones = []\n",
    "\n",
    "    def consultar_catalogo(self, catalogo):\n",
    "        return catalogo.listar_materiales()\n",
    "\n",
    "    def devolver_material(self, prestamo, fecha_devolucion_real):\n",
    "        if fecha_devolucion_real > prestamo.fecha_devolucion:\n",
    "            dias_retraso = (fecha_devolucion_real - prestamo.fecha_devolucion).days\n",
    "            penalizacion = Penalizacion(self, dias_retraso)\n",
    "            self.penalizaciones.append(penalizacion)\n",
    "        prestamo.material.estado = \"disponible\"\n",
    "        self.prestamos.remove(prestamo)\n"
   ]
  },
  {
   "cell_type": "code",
   "execution_count": 9,
   "metadata": {},
   "outputs": [],
   "source": [
    "class Bibliotecario(Persona):\n",
    "    def __init__(self, nombre):\n",
    "        super().__init__(nombre)\n",
    "\n",
    "    def agregar_material(self, catalogo, material):\n",
    "        catalogo.agregar_material(material)\n",
    "\n",
    "    def gestionar_prestamo(self, prestamo):\n",
    "        prestamo.material.estado = \"prestado\"\n",
    "        prestamo.usuario.prestamos.append(prestamo)\n",
    "\n",
    "    def transferir_material(self, material, sucursal_origen, sucursal_destino):\n",
    "        if material in sucursal_origen.catalogo:\n",
    "            sucursal_origen.catalogo.remove(material)\n",
    "            sucursal_destino.catalogo.append(material)\n"
   ]
  },
  {
   "cell_type": "code",
   "execution_count": 8,
   "metadata": {},
   "outputs": [],
   "source": [
    "class Sucursal:\n",
    "    def __init__(self, nombre):\n",
    "        self.nombre = nombre\n",
    "        self.catalogo = []\n",
    "\n",
    "    def agregar_material(self, material):\n",
    "        self.catalogo.append(material)\n"
   ]
  },
  {
   "cell_type": "code",
   "execution_count": 10,
   "metadata": {},
   "outputs": [],
   "source": [
    "class Prestamo:\n",
    "    def __init__(self, usuario, material, fecha_prestamo, fecha_devolucion):\n",
    "        self.usuario = usuario\n",
    "        self.material = material\n",
    "        self.fecha_prestamo = fecha_prestamo\n",
    "        self.fecha_devolucion = fecha_devolucion"
   ]
  },
  {
   "cell_type": "code",
   "execution_count": 11,
   "metadata": {},
   "outputs": [],
   "source": [
    "class Penalizacion:\n",
    "    def __init__(self, usuario, dias_retraso, multa_por_dia=5):\n",
    "        self.usuario = usuario\n",
    "        self.dias_retraso = dias_retraso\n",
    "        self.multa_total = dias_retraso * multa_por_dia\n"
   ]
  },
  {
   "cell_type": "code",
   "execution_count": 12,
   "metadata": {},
   "outputs": [],
   "source": [
    "class Catalogo:\n",
    "    def __init__(self):\n",
    "        self.materiales = []\n",
    "\n",
    "    def agregar_material(self, material):\n",
    "        self.materiales.append(material)\n",
    "\n",
    "    def listar_materiales(self):\n",
    "        return [material.titulo for material in self.materiales]\n",
    "\n",
    "    def buscar_por_criterio(self, criterio, valor):\n",
    "        return [material for material in self.materiales if getattr(material, criterio, None) == valor]\n"
   ]
  },
  {
   "cell_type": "code",
   "execution_count": 13,
   "metadata": {},
   "outputs": [
    {
     "name": "stdout",
     "output_type": "stream",
     "text": [
      "Materiales en el catálogo: ['1984', 'National Geographic', 'Curso Python']\n",
      "Carlos ha tomado prestado: ['1984']\n",
      "Carlos ha recibido una penalización de: 25 unidades monetarias\n",
      "El libro '1984' ha sido transferido a Sucursal Norte\n"
     ]
    }
   ],
   "source": [
    "# Ejemplo de uso:\n",
    "from datetime import date, timedelta\n",
    "\n",
    "catalogo = Catalogo()\n",
    "bibliotecario = Bibliotecario(\"Ana\")\n",
    "usuario = Usuario(\"Carlos\")\n",
    "\n",
    "sucursal_a = Sucursal(\"Sucursal Centro\")\n",
    "sucursal_b = Sucursal(\"Sucursal Norte\")\n",
    "\n",
    "libro = Libro(\"1984\", \"George Orwell\", \"Distopía\")\n",
    "revista = Revista(\"National Geographic\", \"Edición 202\", \"Mensual\")\n",
    "material_digital = MaterialDigital(\"Curso Python\", \"PDF\", \"www.ejemplo.com\")\n",
    "\n",
    "bibliotecario.agregar_material(catalogo, libro)\n",
    "bibliotecario.agregar_material(catalogo, revista)\n",
    "bibliotecario.agregar_material(catalogo, material_digital)\n",
    "\n",
    "sucursal_a.agregar_material(libro)\n",
    "sucursal_a.agregar_material(revista)\n",
    "sucursal_b.agregar_material(material_digital)\n",
    "\n",
    "print(\"Materiales en el catálogo:\", usuario.consultar_catalogo(catalogo))\n",
    "\n",
    "prestamo = Prestamo(usuario, libro, date(2024, 2, 1), date(2024, 2, 15))\n",
    "bibliotecario.gestionar_prestamo(prestamo)\n",
    "\n",
    "print(f\"{usuario.nombre} ha tomado prestado: {[p.material.titulo for p in usuario.prestamos]}\")\n",
    "\n",
    "# Simulación de devolución con retraso\n",
    "fecha_devolucion_real = date(2024, 2, 20)\n",
    "usuario.devolver_material(prestamo, fecha_devolucion_real)\n",
    "print(f\"{usuario.nombre} ha recibido una penalización de: {usuario.penalizaciones[0].multa_total} unidades monetarias\")\n",
    "\n",
    "# Transferencia de material entre sucursales\n",
    "bibliotecario.transferir_material(libro, sucursal_a, sucursal_b)\n",
    "print(f\"El libro '1984' ha sido transferido a {sucursal_b.nombre}\")\n"
   ]
  }
 ],
 "metadata": {
  "kernelspec": {
   "display_name": "Python 3",
   "language": "python",
   "name": "python3"
  },
  "language_info": {
   "codemirror_mode": {
    "name": "ipython",
    "version": 3
   },
   "file_extension": ".py",
   "mimetype": "text/x-python",
   "name": "python",
   "nbconvert_exporter": "python",
   "pygments_lexer": "ipython3",
   "version": "3.13.1"
  }
 },
 "nbformat": 4,
 "nbformat_minor": 2
}
